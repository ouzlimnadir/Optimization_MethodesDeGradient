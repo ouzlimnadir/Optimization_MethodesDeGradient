{
 "cells": [
  {
   "cell_type": "markdown",
   "metadata": {
    "id": "19D0FpH4keSk"
   },
   "source": [
    "# TP 2 : Méthode de gradient conjugué\n",
    "Le but de cette deuxième partie du TP est de programmer, valider et expérimenter l’algorithme du gradient conjugué GC (et sa variante Fletcher-Reeves).\n"
   ]
  },
  {
   "cell_type": "markdown",
   "metadata": {
    "id": "5an1Z18okeSl"
   },
   "source": [
    "## Etape 1.\n",
    "> Rappeler l’algorithme GC et l’implémenter. On pourra utilement se servir comme point de départ des codes de gradient développés en Partie 1. Effectuer les tests de validation rapide pour les fonctions quadratiques suivantes ($N = 10, 20, 40$) :\n",
    "$$\n",
    "J_{1}(v)=\\sum_{i=1}^{i=N}\\left(v_{i}-1\\right)^{2}, \\quad J_{2}(v)=\\sum_{i=1}^{i=N}\\left(v_{i}-i\\right)^{2}\n",
    "$$"
   ]
  },
  {
   "cell_type": "markdown",
   "metadata": {
    "id": "etWC-oExqZ4R"
   },
   "source": [
    "\n",
    "On rappelle que pour une fonction $J$ quadratique :\n",
    "$$\n",
    "J(v)=\\frac{1}{2} \\langle A v, v \\rangle -\\langle b, v\\rangle; \\quad\\quad\\quad \\nabla J(v)=A v-b\n",
    "$$\n",
    "où $A$ est une matrice symétrique définie positive, l'algorithme GC s'écrit comme suit:\n",
    "\n",
    "**Pseudocode**\n",
    "\n",
    ">  \n",
    "- Initialisation: $u_0 \\in {\\mathbb R}^n$ arbitraire, $d_0 = \\nabla J(u_0) \\in {\\mathbb R}^n$\n",
    "- Itérations: répéter pour $k=0,1,\\dots$\n",
    "  - calculer le gradient $G_k = \\nabla J (u_{k})$;\n",
    "  - calculer $\\rho_k$\n",
    "  $$\n",
    "  \\rho_k = \\frac{ \\langle G_k, d_{k}\\rangle}{\\langle A d_{k}, d_{k}\\rangle};\n",
    "  $$\n",
    "  - poser $u_{k+1} = u_{k} - \\rho_k d_k$;\n",
    "  - calculer le gradient $G_{k+1}=\\nabla J (u_{k+1})$;\n",
    "  - calculer $\\beta_k$,\n",
    "  $$\n",
    "  \\beta_k = -\\frac{ \\langle G_{k+1}, Ad_{k}\\rangle}{\\langle A d_{k}, d_{k}\\rangle};\n",
    "  $$\n",
    "  - poser $d_{k+1} = \\nabla J(u_{k+1}) + \\beta_k d_k$;\n",
    "- Critère d'arrêt:  $\\| d_k \\|_2 \\leq \\epsilon$\n"
   ]
  },
  {
   "cell_type": "code",
   "execution_count": 1,
   "metadata": {
    "id": "qPZSyI3KQE4K"
   },
   "outputs": [],
   "source": [
    "import numpy as np"
   ]
  },
  {
   "cell_type": "code",
   "execution_count": 11,
   "metadata": {
    "id": "E8UuFvcAQE4K"
   },
   "outputs": [
    {
     "name": "stdout",
     "output_type": "stream",
     "text": [
      "[-2. -2. -2. -2. -2. -2. -2. -2. -2. -2.]\n"
     ]
    }
   ],
   "source": [
    "def J1 (v): # rappelle des fonctions du TP1. Cette fonction retourne la valeur de la fonction et de sont gradient\n",
    "    N = len(v)\n",
    "    ones = np.ones (N)\n",
    "    return [np.dot(v-ones,v-ones), 2*(v-ones)]\n",
    "\n",
    "def J2 (v):\n",
    "    N = len(v)\n",
    "    r = np.arange (1,N+1)\n",
    "    return [np.dot(v-r,v-r), 2*(v-r)]\n",
    "\n",
    "d = J1(np.zeros(10))\n",
    "print(d[1])"
   ]
  },
  {
   "cell_type": "markdown",
   "metadata": {
    "id": "jC-5G0bLWOPG"
   },
   "source": [
    "On remarque que dans le cas des fonctions $J_1$ et $J_2$, on a $A = 2 I$ où $I$ est la matrice identité."
   ]
  },
  {
   "cell_type": "code",
   "execution_count": 42,
   "metadata": {
    "id": "_J3WXeu1qZIG"
   },
   "outputs": [
    {
     "name": "stdout",
     "output_type": "stream",
     "text": [
      "rho = 0.5\n",
      "u = [1. 1. 1. 1. 1. 1. 1. 1. 1. 1.] nombre d'iteration=1\n"
     ]
    }
   ],
   "source": [
    "## Implémenter ici l'algorithme du GC pour J1 et J2\n",
    "def GC():\n",
    "    N = 10\n",
    "    kmax = 1500\n",
    "    eps = 1.e-7\n",
    "    u0 = np.zeros(N)\n",
    "    d0 = J1(u0)[1]\n",
    "    I = np.eye(N)\n",
    "    A = 2*I\n",
    "    k=0\n",
    "    for i in range(kmax):\n",
    "        if(np.linalg.norm(d0)<eps): break\n",
    "            \n",
    "        rho = np.dot(J1(u0)[1],d0)/np.dot(np.dot(A,d0),d0)\n",
    "        u0 = u0-rho*d0\n",
    "        beta = -np.dot(J1(u0)[1],np.dot(A,d0))/(np.dot(np.dot(A,d0),d0))  \n",
    "        d0 = J1(u0)[1]+beta*d0\n",
    "        k=i+1\n",
    "    return (u0,k)\n",
    "\n",
    "value = GC()\n",
    "print(f\"u = {value[0]} nombre d'iteration={value[1]}\")\n",
    "        "
   ]
  },
  {
   "cell_type": "markdown",
   "metadata": {
    "id": "2bOSmidvkeSl"
   },
   "source": [
    "## Etape 2.\n",
    "On considère les fonctions quadratiques suivantes (en dimension $N$) :\n",
    "\n",
    "$$\n",
    "J_3(v)= \\frac 12\\langle Av,v \\rangle− \\langle f,v \\rangle , \\quad\\quad\\quad J_4(v)= \\frac 12 \\langle B v,v\\rangle − \\langle f,v\\rangle\n",
    "$$\n",
    "avec $f = (1,...,1)$ et les matrices $A$ et $B$ sont des matrices bande données par :\n",
    "\n",
    "$$\n",
    "A = {\\rm tridiag}[−1, 2, −1],\\quad\\quad\\quad B = {\\rm pentadiag}[−1, −1, 4, −1, −1]\n",
    "$$\n",
    "\n",
    "$$\n",
    "A=\\left(\\begin{array}{ccccc}\n",
    "2 & -1 & 0 & \\cdots & \\\\\n",
    "-1 & 2 & -1 & 0 & \\cdots \\\\\n",
    "0 & -1 & 2 & -1 & \\cdots \\\\\n",
    "\\cdots & \\cdots & \\cdots & \\cdots & \\cdots \\\\\n",
    "\\cdots & \\cdots & \\cdots & -1 & 2\n",
    "\\end{array}\\right)\n",
    "\\quad\\quad\\quad \\mbox{et même principe pour } B\n",
    "$$\n"
   ]
  },
  {
   "cell_type": "markdown",
   "metadata": {
    "id": "xl_adM0wtNmq"
   },
   "source": [
    "\n",
    "> - Minimiser les fonctions $J_3$ et $J_4$ par GC ($N = 20,40,80,100,200$), et\n",
    "- Comparer sur ces fonctions les performances de GC et de GF (avec un pas $t = 0.5$).\n",
    "- On tracera sur un même graphique les courbes GC et GF de convergence du coût en fonction des itérations."
   ]
  },
  {
   "cell_type": "code",
   "execution_count": 69,
   "metadata": {
    "id": "HIsiU2HtkeSm"
   },
   "outputs": [],
   "source": [
    "def J3 (v):\n",
    "    n = len (v)\n",
    "    A = 2*np.eye(n) - np.diag(np.ones(n-1),1) - np.diag(np.ones(n-1),-1)\n",
    "    f = np.ones(len(v))\n",
    "    return 0.5*np.dot(np.dot(A,v),v) - np.dot(f,v), np.dot(A,v) - f\n",
    "\n",
    "def create_pentadiagonal_matrix(n):\n",
    "    matrix = np.zeros((n, n))\n",
    "\n",
    "    for i in range(n):\n",
    "        if i < n - 1:\n",
    "            matrix[i][i + 1] = -1  # Diagonale supérieure\n",
    "            matrix[i + 1][i] = -1  # Diagonale inférieure\n",
    "        if i < n - 2:\n",
    "            matrix[i][i + 2] = -1  # 2 diagonales au-dessus\n",
    "            matrix[i + 2][i] = -1  # 2 diagonales en dessous\n",
    "        matrix[i][i] = 4  # Diagonale principale\n",
    "\n",
    "    return matrix\n",
    "\n",
    "def J4 (v):\n",
    "    n = len (v)\n",
    "    B = create_pentadiagonal_matrix(n)\n",
    "    f = np.ones(len(v))\n",
    "    return 0.5*np.dot(np.dot(B,v),v) - np.dot(f,v), np.dot(B,v) - f"
   ]
  },
  {
   "cell_type": "code",
   "execution_count": 139,
   "metadata": {
    "id": "lj_dzVdDSsAT"
   },
   "outputs": [
    {
     "name": "stdout",
     "output_type": "stream",
     "text": [
      "v= [ 5.  9. 12. 14. 15. 15. 14. 12.  9.  5.] nb d'iteration= 5\n",
      "v=  [ 4.99999986  8.99999974 11.99999963 13.99999956 14.99999952 14.99999952\n",
      " 13.99999956 11.99999963  8.99999974  4.99999986] nb d'iteration=  418\n"
     ]
    }
   ],
   "source": [
    "import matplotlib.pyplot as plt\n",
    "## Implémenter ici l'algorithme du GC pour J3 et J4, et aussi l'algorithme GF (du TP1) et comparer les deux algorithmes\n",
    "def GC(J):\n",
    "    N = 10\n",
    "    kmax = 1500\n",
    "    eps = 1.e-7\n",
    "    u0 = np.zeros(N)\n",
    "    d0 = J(u0)[1]\n",
    "    A = 2*np.eye(N) - np.diag(np.ones(N-1),1) - np.diag(np.ones(N-1),-1)\n",
    "    k=0\n",
    "    tab=[]\n",
    "    for i in range(kmax):\n",
    "        if(np.linalg.norm(d0)<eps): break\n",
    "            \n",
    "        rho = np.dot(J(u0)[1],d0) / np.dot(np.dot(A,d0),d0)\n",
    "        #print(\"rho=\",rho)\n",
    "        tab.append(u0)\n",
    "        u0 = u0 - rho * d0\n",
    "        \n",
    "        \n",
    "        beta = -np.dot(J(u0)[1],np.dot(A,d0)) / (np.dot(np.dot(A,d0),d0))  \n",
    "        d0 = J(u0)[1]+beta*d0\n",
    "        k=i+1\n",
    "    return (u0,k,tab)\n",
    "print(\"v=\",GC(J3)[0],\"nb d'iteration=\",GC(J3)[1])\n",
    "\n",
    "def GF(J):\n",
    "    N=10 ; #nombre de variables d'optimisation (ou dimension du probleme)\n",
    "    eps = 1.e-7; # tolerance sur la norme du gradient\n",
    "    Kmax = 1500 ; # nombre max d'iterations\n",
    "\n",
    "    # les pas t dans une liste pour print tous les cas\n",
    "    t = 0.5\n",
    "    u = np.zeros(N)\n",
    "    tab = []\n",
    "    for k in range(0,Kmax):\n",
    "        grad = J(u)[1]\n",
    "        tab.append(u)\n",
    "        u = u - t * grad\n",
    "        \n",
    "        norme = np.linalg.norm(grad)\n",
    "        if norme < eps : \n",
    "            break\n",
    "\n",
    "    # Affichage pour chaque t le nombre d'itération et le vecteur trouvé...\n",
    "    return(u,k+1,tab)\n",
    "\n",
    "print(\"v= \",GF(J3)[0],\"nb d'iteration= \",GF(J3)[1])"
   ]
  },
  {
   "cell_type": "code",
   "execution_count": 140,
   "metadata": {},
   "outputs": [
    {
     "data": {
      "image/png": "[encoded data removed]",
      "text/plain": [
       "<Figure size 640x480 with 1 Axes>"
      ]
     },
     "metadata": {},
     "output_type": "display_data"
    }
   ],
   "source": [
    "G = GC(J3)\n",
    "g = GF(J3)\n",
    "k = min(G[1],g[1])\n",
    "k_value = np.linspace(1,k,k)\n",
    "u0_value = [J3(u)[0] for u in G[2]]\n",
    "plt.plot(k_value,u0_value,\"b\")\n",
    "\n",
    "u0f_value = [J3(u)[0] for u in g[2]]\n",
    "u0f_value = u0f_value[:k]\n",
    "plt.plot(k_value,u0f_value,\"r\")\n",
    "\n",
    "plt.show()"
   ]
  },
  {
   "cell_type": "markdown",
   "metadata": {
    "id": "lOBB6-1QkeSp"
   },
   "source": [
    "## Etape 3.\n",
    "\n",
    "> - Effectuer une étude du comportement de NLGC (Fletcher-Reeves à pas constant bien choisi) vis à vis du paramètre $\\epsilon$ pour la fonction quadratique suivante $(N = 10, 20, 40)$ :\n",
    "$$\n",
    "J_{\\epsilon}(v)=\\sum_{i=1}^{i=N}\\left(v_{i}\\right)^{2}+\\frac{1}{\\epsilon} \\sum_{i=1}^{N-1}\\left\\{\\left(v_{i}+v_{i+1}-N / 2\\right)\\right\\}^{2}\n",
    "$$\n",
    "On fera l’étude pour $\\epsilon > 0$ de plus en plus petit, par exemple $\\epsilon = 10^{-p}, p = 0, 1, 2, 3$. Comparer la solution optimale calculée $u^∗$ ainsi que son coût $J_\\epsilon(u^∗)$ et son gradient à ceux du vecteur $c$ défini par $c_i = N/4$ $(i = 1,\\dots, N)$. Interpréter les résultats obtenus."
   ]
  },
  {
   "cell_type": "markdown",
   "metadata": {
    "id": "ogUVRX4ZfeA6"
   },
   "source": [
    "\n",
    "On rappelle que dans le cas d'une fonction quadratique\n",
    "$J(v)=\\frac{1}{2} \\langle A v, v \\rangle -\\langle b, v\\rangle+c$, l'algorithme NLGC (Fletcher-Reeves à pas constant) s'écrit comme suit:\n",
    "\n",
    "**Pseudocode**\n",
    "\n",
    ">  \n",
    "- Initialisation: $u_0 \\in {\\mathbb R}^n$ arbitraire, $d_0 = \\nabla J(u_0) \\in {\\mathbb R}^n$ et un pas fixe $\\rho>0$\n",
    "- Itérations: répéter pour $k=0,1,\\dots$\n",
    "  - calculer le gradient $G_k = \\nabla J (u_{k})$;\n",
    "  - poser $u_{k+1} = u_{k} - \\rho d_k$;\n",
    "  - calculer le gradient $G_{k+1}=\\nabla J (u_{k+1})$;\n",
    "  - calculer $\\beta_k$,\n",
    "  $$\n",
    "  \\beta_k = \\frac{ \\langle G_{k+1}, G_{k+1}\\rangle}{\\langle G_{k}, G_{k}\\rangle}; \\quad\\text{ (Fletcher-Reeves) }\n",
    "  $$\n",
    "  - poser $d_{k+1} = \\nabla J(u_{k+1}) + \\beta_k d_k$;\n",
    "- Critère d'arrêt:  $\\| d_k \\|_2 \\leq \\epsilon'$\n"
   ]
  },
  {
   "cell_type": "code",
   "execution_count": 147,
   "metadata": {
    "id": "cGVhPAOakeSq"
   },
   "outputs": [
    {
     "data": {
      "text/plain": [
       "(225.0, array([-10., -20., -20., -20., -20., -20., -20., -20., -20., -10.]))"
      ]
     },
     "execution_count": 147,
     "metadata": {},
     "output_type": "execute_result"
    }
   ],
   "source": [
    "def Jeps(epsilon, v):\n",
    "    # Calcule du gradient\n",
    "    \n",
    "    N = len(v)\n",
    "    grad = np.zeros(N)\n",
    "    for i in range(N):\n",
    "        if i == 0 :\n",
    "            grad[i] = 2 * v[i] + 2/epsilon * (v[i] + v[i+1] - N/2)\n",
    "        elif i == N-1 :\n",
    "            grad[i] = 2 * v[i] + 2/epsilon * (v[i-1] + v[i] - N/2)\n",
    "        else :\n",
    "            grad[i] = 2 * v[i] + 2/epsilon * (2*v[i] + v[i-1] + v[i+1] - N)\n",
    "    # Calcule de la fonction\n",
    "    s1 = np.dot(v,v)\n",
    "    s2 = v[1:] + v[:-1] - N/2\n",
    "    s2 = np.dot(s2,s2)\n",
    "    fct = s1 + s2/epsilon\n",
    "    return fct,grad\n",
    "\n",
    "eps = 1.e-1\n",
    "eps = 1\n",
    "v = np.zeros(10)\n",
    "Jeps(eps,v)"
   ]
  },
  {
   "cell_type": "code",
   "execution_count": 163,
   "metadata": {
    "id": "4NsmSo8DSsrQ"
   },
   "outputs": [
    {
     "name": "stdout",
     "output_type": "stream",
     "text": [
      "[2.4938026  2.5037036  2.4962865  2.50122712 2.49875804 2.49875804\n",
      " 2.50122712 2.4962865  2.5037036  2.4938026 ] 166\n"
     ]
    }
   ],
   "source": [
    "## Implémenter ici l'algorithme du NLGC pour Jeps\n",
    "def NLGC():\n",
    "    N = 10\n",
    "    rho = 0.0001\n",
    "    eps = 0.001\n",
    "    err = 1.e-7\n",
    "    kmax = 1500\n",
    "    \n",
    "    u = np.zeros(N)\n",
    "    d = Jeps(eps,u)[1]\n",
    "    tab = []\n",
    "    for i in range(kmax):\n",
    "        norme = np.linalg.norm(d)\n",
    "        if norme < err : break\n",
    "        tab.append(u)\n",
    "        uplus = u - rho * d\n",
    "        beta = np.dot(Jeps(eps,uplus)[1],Jeps(eps,uplus)[1]) / np.dot(Jeps(eps,u)[1],Jeps(eps,u)[1])\n",
    "        u = uplus\n",
    "        d = Jeps(eps,u)[1] + beta * d\n",
    "        k = i+1\n",
    "    #print(Jeps(eps,u))\n",
    "    return u,k,tab\n",
    "        \n",
    "print(NLGC()[0],NLGC()[1])"
   ]
  },
  {
   "cell_type": "code",
   "execution_count": 160,
   "metadata": {},
   "outputs": [
    {
     "data": {
      "image/png": "[encoded data removed]",
      "text/plain": [
       "<Figure size 640x480 with 1 Axes>"
      ]
     },
     "metadata": {},
     "output_type": "display_data"
    }
   ],
   "source": [
    "G = NLGC()\n",
    "k = G[1]\n",
    "k_value = np.linspace(1,k,k)\n",
    "u0_value = [Jeps(eps,u)[0] for u in G[2]]\n",
    "plt.plot(k_value,u0_value,\"b\")\n",
    "plt.show()"
   ]
  },
  {
   "cell_type": "code",
   "execution_count": null,
   "metadata": {},
   "outputs": [],
   "source": []
  }
 ],
 "metadata": {
  "colab": {
   "provenance": []
  },
  "kernelspec": {
   "display_name": "Python 3 (ipykernel)",
   "language": "python",
   "name": "python3"
  },
  "language_info": {
   "codemirror_mode": {
    "name": "ipython",
    "version": 3
   },
   "file_extension": ".py",
   "mimetype": "text/x-python",
   "name": "python",
   "nbconvert_exporter": "python",
   "pygments_lexer": "ipython3",
   "version": "3.11.4"
  },
  "toc": {
   "base_numbering": 1,
   "nav_menu": {},
   "number_sections": true,
   "sideBar": true,
   "skip_h1_title": false,
   "title_cell": "Table of Contents",
   "title_sidebar": "Contents",
   "toc_cell": false,
   "toc_position": {},
   "toc_section_display": true,
   "toc_window_display": false
  },
  "varInspector": {
   "cols": {
    "lenName": 16,
    "lenType": 16,
    "lenVar": 40
   },
   "kernels_config": {
    "python": {
     "delete_cmd_postfix": "",
     "delete_cmd_prefix": "del ",
     "library": "var_list.py",
     "varRefreshCmd": "print(var_dic_list())"
    },
    "r": {
     "delete_cmd_postfix": ") ",
     "delete_cmd_prefix": "rm(",
     "library": "var_list.r",
     "varRefreshCmd": "cat(var_dic_list()) "
    }
   },
   "types_to_exclude": [
    "module",
    "function",
    "builtin_function_or_method",
    "instance",
    "_Feature"
   ],
   "window_display": false
  }
 },
 "nbformat": 4,
 "nbformat_minor": 1
}
